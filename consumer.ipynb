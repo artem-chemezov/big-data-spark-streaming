{
 "cells": [
  {
   "cell_type": "code",
   "execution_count": 1,
   "id": "incoming-danish",
   "metadata": {},
   "outputs": [],
   "source": [
    "from kafka import KafkaConsumer"
   ]
  },
  {
   "cell_type": "code",
   "execution_count": null,
   "id": "bizarre-boundary",
   "metadata": {},
   "outputs": [],
   "source": [
    "consumer1 = KafkaConsumer('female2740', \n",
    "                         bootstrap_servers='kafka-svc:9092', \n",
    "                         value_deserializer=lambda data: data.decode()\n",
    "                        )"
   ]
  },
  {
   "cell_type": "code",
   "execution_count": 3,
   "id": "unavailable-killer",
   "metadata": {},
   "outputs": [],
   "source": [
    "consumer2 = KafkaConsumer('female18', \n",
    "                         bootstrap_servers='kafka-svc:9092', \n",
    "                         value_deserializer=lambda data: data.decode()\n",
    "                        )"
   ]
  },
  {
   "cell_type": "code",
   "execution_count": 18,
   "id": "passing-narrow",
   "metadata": {},
   "outputs": [],
   "source": [
    "consumer3 = KafkaConsumer('male2740', \n",
    "                         bootstrap_servers='kafka-svc:9092', \n",
    "                         value_deserializer=lambda data: data.decode()\n",
    "                        )"
   ]
  },
  {
   "cell_type": "code",
   "execution_count": 32,
   "id": "structured-phrase",
   "metadata": {},
   "outputs": [],
   "source": [
    "consumer4 = KafkaConsumer('male60_hour', \n",
    "                         bootstrap_servers='kafka-svc:9092', \n",
    "                         value_deserializer=lambda data: data.decode()\n",
    "                        )"
   ]
  },
  {
   "cell_type": "code",
   "execution_count": null,
   "id": "generous-fleet",
   "metadata": {},
   "outputs": [],
   "source": []
  },
  {
   "cell_type": "code",
   "execution_count": null,
   "id": "continued-hollywood",
   "metadata": {},
   "outputs": [
    {
     "name": "stdout",
     "output_type": "stream",
     "text": [
      "ConsumerRecord(topic='male60_hour', partition=0, offset=61, timestamp=1624216986251, timestamp_type=0, key=None, value='5070', headers=[], checksum=None, serialized_key_size=-1, serialized_value_size=4, serialized_header_size=-1)\n",
      "ConsumerRecord(topic='male60_hour', partition=0, offset=62, timestamp=1624216991499, timestamp_type=0, key=None, value='5102', headers=[], checksum=None, serialized_key_size=-1, serialized_value_size=4, serialized_header_size=-1)\n",
      "ConsumerRecord(topic='male60_hour', partition=0, offset=63, timestamp=1624216996706, timestamp_type=0, key=None, value='5170', headers=[], checksum=None, serialized_key_size=-1, serialized_value_size=4, serialized_header_size=-1)\n",
      "ConsumerRecord(topic='male60_hour', partition=0, offset=64, timestamp=1624217002715, timestamp_type=0, key=None, value='5240', headers=[], checksum=None, serialized_key_size=-1, serialized_value_size=4, serialized_header_size=-1)\n",
      "ConsumerRecord(topic='male60_hour', partition=0, offset=65, timestamp=1624217009077, timestamp_type=0, key=None, value='6725', headers=[], checksum=None, serialized_key_size=-1, serialized_value_size=4, serialized_header_size=-1)\n",
      "ConsumerRecord(topic='male60_hour', partition=0, offset=66, timestamp=1624217014720, timestamp_type=0, key=None, value='7574', headers=[], checksum=None, serialized_key_size=-1, serialized_value_size=4, serialized_header_size=-1)\n",
      "ConsumerRecord(topic='male60_hour', partition=0, offset=67, timestamp=1624217020587, timestamp_type=0, key=None, value='8203', headers=[], checksum=None, serialized_key_size=-1, serialized_value_size=4, serialized_header_size=-1)\n",
      "ConsumerRecord(topic='male60_hour', partition=0, offset=68, timestamp=1624217026900, timestamp_type=0, key=None, value='8492', headers=[], checksum=None, serialized_key_size=-1, serialized_value_size=4, serialized_header_size=-1)\n",
      "ConsumerRecord(topic='male60_hour', partition=0, offset=69, timestamp=1624217031838, timestamp_type=0, key=None, value='9126', headers=[], checksum=None, serialized_key_size=-1, serialized_value_size=4, serialized_header_size=-1)\n",
      "ConsumerRecord(topic='male60_hour', partition=0, offset=70, timestamp=1624217035617, timestamp_type=0, key=None, value='9142', headers=[], checksum=None, serialized_key_size=-1, serialized_value_size=4, serialized_header_size=-1)\n",
      "ConsumerRecord(topic='male60_hour', partition=0, offset=71, timestamp=1624217041022, timestamp_type=0, key=None, value='9154', headers=[], checksum=None, serialized_key_size=-1, serialized_value_size=4, serialized_header_size=-1)\n",
      "ConsumerRecord(topic='male60_hour', partition=0, offset=72, timestamp=1624217044290, timestamp_type=0, key=None, value='9177', headers=[], checksum=None, serialized_key_size=-1, serialized_value_size=4, serialized_header_size=-1)\n",
      "ConsumerRecord(topic='male60_hour', partition=0, offset=73, timestamp=1624217048535, timestamp_type=0, key=None, value='9974', headers=[], checksum=None, serialized_key_size=-1, serialized_value_size=4, serialized_header_size=-1)\n",
      "ConsumerRecord(topic='male60_hour', partition=0, offset=74, timestamp=1624217052560, timestamp_type=0, key=None, value='10335', headers=[], checksum=None, serialized_key_size=-1, serialized_value_size=5, serialized_header_size=-1)\n",
      "ConsumerRecord(topic='male60_hour', partition=0, offset=75, timestamp=1624217056313, timestamp_type=0, key=None, value='10455', headers=[], checksum=None, serialized_key_size=-1, serialized_value_size=5, serialized_header_size=-1)\n",
      "ConsumerRecord(topic='male60_hour', partition=0, offset=76, timestamp=1624217061005, timestamp_type=0, key=None, value='10593', headers=[], checksum=None, serialized_key_size=-1, serialized_value_size=5, serialized_header_size=-1)\n",
      "ConsumerRecord(topic='male60_hour', partition=0, offset=77, timestamp=1624217065027, timestamp_type=0, key=None, value='10605', headers=[], checksum=None, serialized_key_size=-1, serialized_value_size=5, serialized_header_size=-1)\n",
      "ConsumerRecord(topic='male60_hour', partition=0, offset=78, timestamp=1624217069161, timestamp_type=0, key=None, value='10758', headers=[], checksum=None, serialized_key_size=-1, serialized_value_size=5, serialized_header_size=-1)\n",
      "ConsumerRecord(topic='male60_hour', partition=0, offset=79, timestamp=1624217073785, timestamp_type=0, key=None, value='10797', headers=[], checksum=None, serialized_key_size=-1, serialized_value_size=5, serialized_header_size=-1)\n",
      "ConsumerRecord(topic='male60_hour', partition=0, offset=80, timestamp=1624217077509, timestamp_type=0, key=None, value='11068', headers=[], checksum=None, serialized_key_size=-1, serialized_value_size=5, serialized_header_size=-1)\n",
      "ConsumerRecord(topic='male60_hour', partition=0, offset=81, timestamp=1624217082568, timestamp_type=0, key=None, value='11070', headers=[], checksum=None, serialized_key_size=-1, serialized_value_size=5, serialized_header_size=-1)\n",
      "ConsumerRecord(topic='male60_hour', partition=0, offset=82, timestamp=1624217096682, timestamp_type=0, key=None, value='11140', headers=[], checksum=None, serialized_key_size=-1, serialized_value_size=5, serialized_header_size=-1)\n",
      "ConsumerRecord(topic='male60_hour', partition=0, offset=83, timestamp=1624217109871, timestamp_type=0, key=None, value='11236', headers=[], checksum=None, serialized_key_size=-1, serialized_value_size=5, serialized_header_size=-1)\n",
      "ConsumerRecord(topic='male60_hour', partition=0, offset=84, timestamp=1624217113974, timestamp_type=0, key=None, value='11268', headers=[], checksum=None, serialized_key_size=-1, serialized_value_size=5, serialized_header_size=-1)\n",
      "ConsumerRecord(topic='male60_hour', partition=0, offset=85, timestamp=1624217118225, timestamp_type=0, key=None, value='11373', headers=[], checksum=None, serialized_key_size=-1, serialized_value_size=5, serialized_header_size=-1)\n",
      "ConsumerRecord(topic='male60_hour', partition=0, offset=86, timestamp=1624217178110, timestamp_type=0, key=None, value='11459', headers=[], checksum=None, serialized_key_size=-1, serialized_value_size=5, serialized_header_size=-1)\n",
      "ConsumerRecord(topic='male60_hour', partition=0, offset=87, timestamp=1624217181915, timestamp_type=0, key=None, value='12412', headers=[], checksum=None, serialized_key_size=-1, serialized_value_size=5, serialized_header_size=-1)\n",
      "ConsumerRecord(topic='male60_hour', partition=0, offset=88, timestamp=1624217186328, timestamp_type=0, key=None, value='12447', headers=[], checksum=None, serialized_key_size=-1, serialized_value_size=5, serialized_header_size=-1)\n",
      "ConsumerRecord(topic='male60_hour', partition=0, offset=89, timestamp=1624217190844, timestamp_type=0, key=None, value='12483', headers=[], checksum=None, serialized_key_size=-1, serialized_value_size=5, serialized_header_size=-1)\n",
      "ConsumerRecord(topic='male60_hour', partition=0, offset=90, timestamp=1624217204099, timestamp_type=0, key=None, value='12500', headers=[], checksum=None, serialized_key_size=-1, serialized_value_size=5, serialized_header_size=-1)\n",
      "ConsumerRecord(topic='male60_hour', partition=0, offset=91, timestamp=1624217207469, timestamp_type=0, key=None, value='12518', headers=[], checksum=None, serialized_key_size=-1, serialized_value_size=5, serialized_header_size=-1)\n",
      "ConsumerRecord(topic='male60_hour', partition=0, offset=92, timestamp=1624217239309, timestamp_type=0, key=None, value='12630', headers=[], checksum=None, serialized_key_size=-1, serialized_value_size=5, serialized_header_size=-1)\n",
      "ConsumerRecord(topic='male60_hour', partition=0, offset=93, timestamp=1624217246381, timestamp_type=0, key=None, value='12909', headers=[], checksum=None, serialized_key_size=-1, serialized_value_size=5, serialized_header_size=-1)\n",
      "ConsumerRecord(topic='male60_hour', partition=0, offset=94, timestamp=1624217249369, timestamp_type=0, key=None, value='12959', headers=[], checksum=None, serialized_key_size=-1, serialized_value_size=5, serialized_header_size=-1)\n",
      "ConsumerRecord(topic='male60_hour', partition=0, offset=95, timestamp=1624217253208, timestamp_type=0, key=None, value='13032', headers=[], checksum=None, serialized_key_size=-1, serialized_value_size=5, serialized_header_size=-1)\n",
      "ConsumerRecord(topic='male60_hour', partition=0, offset=96, timestamp=1624217257202, timestamp_type=0, key=None, value='13446', headers=[], checksum=None, serialized_key_size=-1, serialized_value_size=5, serialized_header_size=-1)\n"
     ]
    },
    {
     "name": "stdout",
     "output_type": "stream",
     "text": [
      "ConsumerRecord(topic='male60_hour', partition=0, offset=97, timestamp=1624217261350, timestamp_type=0, key=None, value='13824', headers=[], checksum=None, serialized_key_size=-1, serialized_value_size=5, serialized_header_size=-1)\n",
      "ConsumerRecord(topic='male60_hour', partition=0, offset=98, timestamp=1624217265393, timestamp_type=0, key=None, value='14192', headers=[], checksum=None, serialized_key_size=-1, serialized_value_size=5, serialized_header_size=-1)\n",
      "ConsumerRecord(topic='male60_hour', partition=0, offset=99, timestamp=1624217270018, timestamp_type=0, key=None, value='14334', headers=[], checksum=None, serialized_key_size=-1, serialized_value_size=5, serialized_header_size=-1)\n",
      "ConsumerRecord(topic='male60_hour', partition=0, offset=100, timestamp=1624217315897, timestamp_type=0, key=None, value='14647', headers=[], checksum=None, serialized_key_size=-1, serialized_value_size=5, serialized_header_size=-1)\n",
      "ConsumerRecord(topic='male60_hour', partition=0, offset=101, timestamp=1624217320390, timestamp_type=0, key=None, value='14716', headers=[], checksum=None, serialized_key_size=-1, serialized_value_size=5, serialized_header_size=-1)\n",
      "ConsumerRecord(topic='male60_hour', partition=0, offset=102, timestamp=1624217324041, timestamp_type=0, key=None, value='15593', headers=[], checksum=None, serialized_key_size=-1, serialized_value_size=5, serialized_header_size=-1)\n"
     ]
    }
   ],
   "source": [
    "for frame in consumer4:\n",
    "    print(frame)"
   ]
  }
 ],
 "metadata": {
  "kernelspec": {
   "display_name": "Python 3",
   "language": "python",
   "name": "python3"
  },
  "language_info": {
   "codemirror_mode": {
    "name": "ipython",
    "version": 3
   },
   "file_extension": ".py",
   "mimetype": "text/x-python",
   "name": "python",
   "nbconvert_exporter": "python",
   "pygments_lexer": "ipython3",
   "version": "3.8.8"
  }
 },
 "nbformat": 4,
 "nbformat_minor": 5
}
